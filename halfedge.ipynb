{
 "cells": [
  {
   "cell_type": "code",
   "execution_count": 37,
   "metadata": {},
   "outputs": [],
   "source": [
    "import time"
   ]
  },
  {
   "cell_type": "code",
   "execution_count": 38,
   "metadata": {},
   "outputs": [],
   "source": [
    "# import numpy as np\n",
    "# import matplotlib.pyplot as plt\n",
    "# from scipy.spatial import Delaunay\n",
    "\n",
    "# def generate_and_save_triangulation(ind,num_points=100):\n",
    "#     # Generowanie losowych punktów\n",
    "#     np.random.seed()\n",
    "#     points = np.random.rand(num_points, 2)  # Generowanie określonej liczby punktów w 2D\n",
    "\n",
    "#     # Tworzenie triangulacji\n",
    "#     tri = Delaunay(points)\n",
    "\n",
    "#     # Zapis punktów do pliku\n",
    "#     with open('test' + ind + 'points' , 'w') as file:\n",
    "#         for point in points:\n",
    "#             file.write(f\"{point[0]} {point[1]}\\n\")\n",
    "\n",
    "#     # Zapis trójkątów do pliku\n",
    "#     with open('test' + ind + 'triangles', 'w') as file:\n",
    "#         for triangle in tri.simplices:\n",
    "#             file.write(f\"{triangle[0]} {triangle[1]} {triangle[2]}\\n\")\n",
    "\n",
    "#     # Wizualizacja\n",
    "#     plt.triplot(points[:, 0], points[:, 1], tri.simplices)\n",
    "#     plt.plot(points[:, 0], points[:, 1], 'o')\n",
    "#     plt.show()"
   ]
  },
  {
   "cell_type": "code",
   "execution_count": 39,
   "metadata": {},
   "outputs": [],
   "source": [
    "# generate_and_save_triangulation('3')"
   ]
  },
  {
   "cell_type": "code",
   "execution_count": 40,
   "metadata": {},
   "outputs": [],
   "source": [
    "def triangulation_reader(number):\n",
    "    points, triangles = [], []\n",
    "    with open('test' + number + 'points', 'r') as file:\n",
    "        lines = file.readlines()\n",
    "        for line in lines:\n",
    "            line = line.split(' ')\n",
    "            x = float(line[0])\n",
    "            y = float(line[1])\n",
    "            points.append((x,y))\n",
    "    with open('test' + number + 'triangles', 'r') as file:\n",
    "        lines = file.readlines()\n",
    "        for line in lines:\n",
    "            line = line.split(' ')\n",
    "            id1 = int(line[0])\n",
    "            id2 = int(line[1])\n",
    "            id3 = int(line[2])\n",
    "            triangles.append((id1,id2,id3))\n",
    "    return points,triangles"
   ]
  },
  {
   "cell_type": "code",
   "execution_count": 41,
   "metadata": {},
   "outputs": [],
   "source": [
    "def triangles_to_segments(points,triangles):\n",
    "    segments = []\n",
    "    for ind1,ind2,ind3 in triangles:\n",
    "        if (points[ind1],points[ind2]) not in segments and (points[ind2],points[ind1]) not in segments:\n",
    "            segments.append((points[ind1],points[ind2]))\n",
    "        if (points[ind1],points[ind3]) not in segments and (points[ind3],points[ind1]) not in segments:\n",
    "            segments.append((points[ind1],points[ind3]))\n",
    "        if (points[ind2],points[ind3]) not in segments and (points[ind3],points[ind2]) not in segments:\n",
    "            segments.append((points[ind2],points[ind3]))\n",
    "    return segments"
   ]
  },
  {
   "cell_type": "markdown",
   "metadata": {},
   "source": [
    "Lista wierzchołków + Lista połączeń"
   ]
  },
  {
   "cell_type": "code",
   "execution_count": 42,
   "metadata": {},
   "outputs": [],
   "source": [
    "def triangles_to_connections(triangles):\n",
    "    connections = []\n",
    "    for i,ii,iii in triangles:\n",
    "        if (i,ii) not in connections and (ii,i) not in connections:\n",
    "            connections.append((i,ii))\n",
    "        if (i,iii) not in connections and (iii,i) not in connections:\n",
    "            connections.append((i,iii))\n",
    "        if (ii,iii) not in connections and (iii,ii) not in connections:\n",
    "            connections.append((ii,iii))\n",
    "    return connections"
   ]
  },
  {
   "cell_type": "code",
   "execution_count": 43,
   "metadata": {},
   "outputs": [
    {
     "name": "stdout",
     "output_type": "stream",
     "text": [
      "([(1.0, 1.0), (2.0, 6.5), (9.0, 1.0), (17.5, 5.0), (19.0, 13.5), (12.0, 16.0), (11.5, 12.0), (6.0, 12.0)], [(0, 2), (0, 1), (2, 1), (1, 7), (2, 7), (6, 7), (6, 2), (2, 3), (3, 6), (6, 4), (3, 4), (6, 5), (4, 5)])\n"
     ]
    }
   ],
   "source": [
    "p,t = triangulation_reader('2')\n",
    "con = triangles_to_connections(t)\n",
    "vertex_and_connections = (p,con)\n",
    "print(vertex_and_connections)"
   ]
  },
  {
   "cell_type": "markdown",
   "metadata": {},
   "source": [
    "Half Edge "
   ]
  },
  {
   "cell_type": "code",
   "execution_count": 44,
   "metadata": {},
   "outputs": [],
   "source": [
    "from halfedge import *\n",
    "from visualizer import *"
   ]
  },
  {
   "cell_type": "code",
   "execution_count": 45,
   "metadata": {},
   "outputs": [
    {
     "name": "stdout",
     "output_type": "stream",
     "text": [
      "[(0, 2, 1), (1, 2, 7), (6, 7, 2), (2, 3, 6), (6, 3, 4), (6, 4, 5)]\n",
      "[(1.0, 1.0), (2.0, 6.5), (9.0, 1.0), (17.5, 5.0), (19.0, 13.5), (12.0, 16.0), (11.5, 12.0), (6.0, 12.0)]\n",
      "18\n",
      "((1.0, 1.0), (9.0, 1.0))\n",
      "((2.0, 6.5), (1.0, 1.0))\n",
      "((2.0, 6.5), (9.0, 1.0))\n",
      "((9.0, 1.0), (2.0, 6.5))\n",
      "((9.0, 1.0), (6.0, 12.0))\n",
      "((9.0, 1.0), (11.5, 12.0))\n",
      "((9.0, 1.0), (17.5, 5.0))\n",
      "((17.5, 5.0), (11.5, 12.0))\n",
      "((17.5, 5.0), (19.0, 13.5))\n",
      "((19.0, 13.5), (11.5, 12.0))\n",
      "((19.0, 13.5), (12.0, 16.0))\n",
      "((12.0, 16.0), (11.5, 12.0))\n",
      "((11.5, 12.0), (6.0, 12.0))\n",
      "((11.5, 12.0), (9.0, 1.0))\n",
      "((11.5, 12.0), (17.5, 5.0))\n",
      "((11.5, 12.0), (19.0, 13.5))\n",
      "((6.0, 12.0), (2.0, 6.5))\n",
      "((6.0, 12.0), (9.0, 1.0))\n"
     ]
    }
   ],
   "source": [
    "print(t)\n",
    "print(p)\n",
    "mesh = triangles_to_segments(p,t)\n",
    "he = create_half_edge_structure(p, t)\n",
    "print(len(he))\n",
    "for h in he:\n",
    "    print((h.vertex.cords, h.next.vertex.cords))"
   ]
  },
  {
   "cell_type": "code",
   "execution_count": 46,
   "metadata": {},
   "outputs": [
    {
     "data": {
      "image/png": "[encoded data removed]",
      "text/plain": [
       "<Figure size 800x800 with 1 Axes>"
      ]
     },
     "metadata": {},
     "output_type": "display_data"
    }
   ],
   "source": [
    "draw_halfedge_structure(he,mesh)"
   ]
  },
  {
   "cell_type": "code",
   "execution_count": 47,
   "metadata": {},
   "outputs": [],
   "source": [
    "def apex_surroundings_basic(point, points, connections):\n",
    "    surrounding = []\n",
    "    for i,j in connections:\n",
    "        if i == point:\n",
    "            if j not in surrounding:\n",
    "                surrounding.append(j)\n",
    "            for a,b in connections:\n",
    "                if a == j and b != point and b not in surrounding:\n",
    "                    surrounding.append(b)\n",
    "                elif b == j and a != point and a not in surrounding:\n",
    "                    surrounding.append(a)\n",
    "        elif j == point:\n",
    "            if i not in surrounding:\n",
    "                surrounding.append(i)\n",
    "            for a,b in connections:\n",
    "                if a == i and b != point and b not in surrounding:\n",
    "                    surrounding.append(b)\n",
    "                elif b == i and a != point and a not in surrounding:\n",
    "                    surrounding.append(a)\n",
    "    return surrounding"
   ]
  },
  {
   "cell_type": "code",
   "execution_count": 48,
   "metadata": {},
   "outputs": [
    {
     "name": "stdout",
     "output_type": "stream",
     "text": [
      "[0, 1, 7, 6, 3, 4, 5]\n",
      "[(1.0, 1.0), (2.0, 6.5), (6.0, 12.0), (11.5, 12.0), (17.5, 5.0), (19.0, 13.5), (12.0, 16.0)]\n",
      "4.124641418457031e-05\n"
     ]
    }
   ],
   "source": [
    "start_time = time.time()\n",
    "sur = apex_surroundings_basic(2, p, con)\n",
    "end_time = time.time()\n",
    "print(sur)\n",
    "po = [p[sur[i]] for i in range(len(sur))]\n",
    "print(po)\n",
    "print(end_time-start_time)"
   ]
  },
  {
   "cell_type": "code",
   "execution_count": 49,
   "metadata": {},
   "outputs": [],
   "source": [
    "import copy\n",
    "\n",
    "def triangle_surroundings_basic(tri_id, triangles):\n",
    "    triangle = triangles[tri_id]\n",
    "    surrounding = []\n",
    "    for i,(t1,t2,t3) in enumerate(triangles):\n",
    "        if i != tri_id and (t1 in triangle or t2 in triangle or t3 in triangle):\n",
    "            if i not in surrounding:\n",
    "                surrounding.append(i)\n",
    "    res = copy.copy(surrounding)\n",
    "    for j in surrounding:\n",
    "        temp_triangle = triangles[j]\n",
    "        for k,(t1,t2,t3) in enumerate(triangles):\n",
    "            if k != tri_id and (t1 in temp_triangle or t2 in temp_triangle or t3 in temp_triangle):\n",
    "                if k not in res:\n",
    "                    res.append(k)\n",
    "    return surrounding, res"
   ]
  },
  {
   "cell_type": "code",
   "execution_count": 50,
   "metadata": {},
   "outputs": [
    {
     "name": "stdout",
     "output_type": "stream",
     "text": [
      "([1, 2, 3], [1, 2, 3, 4, 5])\n"
     ]
    }
   ],
   "source": [
    "tri = triangle_surroundings_basic(0,t)\n",
    "print(tri)"
   ]
  },
  {
   "cell_type": "code",
   "execution_count": 51,
   "metadata": {},
   "outputs": [],
   "source": [
    "def apex_surroundings_halfedge(p,halfedges):\n",
    "    #do pizdy jeszcze to troche jest\n",
    "    surrounding = []\n",
    "    hes = []\n",
    "    for halfe in halfedges:\n",
    "        if halfe.vertex.index == p:\n",
    "            hes.append(halfe)\n",
    "    if not hes:\n",
    "        return surrounding\n",
    "    for he in hes:\n",
    "        he = he.next\n",
    "        if he.vertex.index not in surrounding:\n",
    "            while he:\n",
    "                if he.vertex.index not in surrounding:\n",
    "                    surrounding.append(he.vertex.index)\n",
    "                he = he.next\n",
    "                if he.vertex.index == p:\n",
    "                    he = he.twin\n",
    "    n = len(surrounding)\n",
    "    for i in range(n):\n",
    "        s = surrounding[i]\n",
    "        hes = []\n",
    "        for halfe in halfedges:\n",
    "            if halfe.vertex.index == s:\n",
    "                hes.append(halfe)\n",
    "        if not hes:\n",
    "            continue\n",
    "        for he in hes:\n",
    "            he = he.next\n",
    "            if he.vertex.index not in surrounding:\n",
    "                while he:\n",
    "                    if he.vertex.index not in surrounding + [p]:\n",
    "                        surrounding.append(he.vertex.index)\n",
    "                    he = he.next\n",
    "                    if he.vertex.index == s:\n",
    "                        he = he.twin\n",
    "                    \n",
    "    return surrounding\n",
    "    "
   ]
  },
  {
   "cell_type": "code",
   "execution_count": 52,
   "metadata": {},
   "outputs": [
    {
     "ename": "KeyboardInterrupt",
     "evalue": "",
     "output_type": "error",
     "traceback": [
      "\u001b[0;31m---------------------------------------------------------------------------\u001b[0m",
      "\u001b[0;31mKeyboardInterrupt\u001b[0m                         Traceback (most recent call last)",
      "\u001b[1;32m/home/hubert/Algorytmy-Geometryczne/geoProjekt/GeoProj/halfedge.ipynb Cell 18\u001b[0m line \u001b[0;36m2\n\u001b[1;32m      <a href='vscode-notebook-cell:/home/hubert/Algorytmy-Geometryczne/geoProjekt/GeoProj/halfedge.ipynb#X23sZmlsZQ%3D%3D?line=0'>1</a>\u001b[0m start_time \u001b[39m=\u001b[39m time\u001b[39m.\u001b[39mtime()\n\u001b[0;32m----> <a href='vscode-notebook-cell:/home/hubert/Algorytmy-Geometryczne/geoProjekt/GeoProj/halfedge.ipynb#X23sZmlsZQ%3D%3D?line=1'>2</a>\u001b[0m sur \u001b[39m=\u001b[39m apex_surroundings_halfedge(\u001b[39m2\u001b[39;49m, he)\n\u001b[1;32m      <a href='vscode-notebook-cell:/home/hubert/Algorytmy-Geometryczne/geoProjekt/GeoProj/halfedge.ipynb#X23sZmlsZQ%3D%3D?line=2'>3</a>\u001b[0m end_time \u001b[39m=\u001b[39m time\u001b[39m.\u001b[39mtime()\n\u001b[1;32m      <a href='vscode-notebook-cell:/home/hubert/Algorytmy-Geometryczne/geoProjekt/GeoProj/halfedge.ipynb#X23sZmlsZQ%3D%3D?line=3'>4</a>\u001b[0m \u001b[39mprint\u001b[39m(sur)\n",
      "\u001b[1;32m/home/hubert/Algorytmy-Geometryczne/geoProjekt/GeoProj/halfedge.ipynb Cell 18\u001b[0m line \u001b[0;36m8\n\u001b[1;32m      <a href='vscode-notebook-cell:/home/hubert/Algorytmy-Geometryczne/geoProjekt/GeoProj/halfedge.ipynb#X23sZmlsZQ%3D%3D?line=5'>6</a>\u001b[0m     surrounding\u001b[39m.\u001b[39madd(he\u001b[39m.\u001b[39mtwin\u001b[39m.\u001b[39mvertex\u001b[39m.\u001b[39mindex)\n\u001b[1;32m      <a href='vscode-notebook-cell:/home/hubert/Algorytmy-Geometryczne/geoProjekt/GeoProj/halfedge.ipynb#X23sZmlsZQ%3D%3D?line=6'>7</a>\u001b[0m next_edge \u001b[39m=\u001b[39m he\u001b[39m.\u001b[39mtwin\u001b[39m.\u001b[39mnext\n\u001b[0;32m----> <a href='vscode-notebook-cell:/home/hubert/Algorytmy-Geometryczne/geoProjekt/GeoProj/halfedge.ipynb#X23sZmlsZQ%3D%3D?line=7'>8</a>\u001b[0m \u001b[39mwhile\u001b[39;00m next_edge \u001b[39m!=\u001b[39;49m he \u001b[39mand\u001b[39;00m next_edge \u001b[39m!=\u001b[39m \u001b[39mNone\u001b[39;00m:\n\u001b[1;32m      <a href='vscode-notebook-cell:/home/hubert/Algorytmy-Geometryczne/geoProjekt/GeoProj/halfedge.ipynb#X23sZmlsZQ%3D%3D?line=8'>9</a>\u001b[0m     \u001b[39mif\u001b[39;00m next_edge\u001b[39m.\u001b[39mtwin \u001b[39m!=\u001b[39m \u001b[39mNone\u001b[39;00m:\n\u001b[1;32m     <a href='vscode-notebook-cell:/home/hubert/Algorytmy-Geometryczne/geoProjekt/GeoProj/halfedge.ipynb#X23sZmlsZQ%3D%3D?line=9'>10</a>\u001b[0m         surrounding\u001b[39m.\u001b[39madd(next_edge\u001b[39m.\u001b[39mtwin\u001b[39m.\u001b[39mvertex\u001b[39m.\u001b[39mindex)\n",
      "\u001b[0;31mKeyboardInterrupt\u001b[0m: "
     ]
    }
   ],
   "source": [
    "start_time = time.time()\n",
    "sur = apex_surroundings_halfedge(2, he)\n",
    "end_time = time.time()\n",
    "print(sur)\n",
    "po = [p[sur[i]] for i in range(len(sur))]\n",
    "print(po)\n",
    "print(end_time-start_time)"
   ]
  },
  {
   "cell_type": "code",
   "execution_count": null,
   "metadata": {},
   "outputs": [],
   "source": []
  }
 ],
 "metadata": {
  "kernelspec": {
   "display_name": "Python 3 (ipykernel)",
   "language": "python",
   "name": "python3"
  },
  "language_info": {
   "codemirror_mode": {
    "name": "ipython",
    "version": 3
   },
   "file_extension": ".py",
   "mimetype": "text/x-python",
   "name": "python",
   "nbconvert_exporter": "python",
   "pygments_lexer": "ipython3",
   "version": "3.9.18"
  }
 },
 "nbformat": 4,
 "nbformat_minor": 4
}
