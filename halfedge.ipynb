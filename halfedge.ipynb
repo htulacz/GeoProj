{
 "cells": [
  {
   "cell_type": "code",
   "execution_count": 2,
   "metadata": {},
   "outputs": [],
   "source": [
    "def triangulation_reader(number):\n",
    "    points, triangles = [], []\n",
    "    with open('test' + number + 'points', 'r') as file:\n",
    "        lines = file.readlines()\n",
    "        for line in lines:\n",
    "            line = line.split(' ')\n",
    "            x = float(line[0])\n",
    "            y = float(line[1])\n",
    "            points.append((x,y))\n",
    "    with open('test' + number + 'triangles', 'r') as file:\n",
    "        lines = file.readlines()\n",
    "        for line in lines:\n",
    "            line = line.split(' ')\n",
    "            id1 = int(line[0])\n",
    "            id2 = int(line[1])\n",
    "            id3 = int(line[2])\n",
    "            triangles.append((id1,id2,id3))\n",
    "    return points,triangles"
   ]
  },
  {
   "cell_type": "code",
   "execution_count": 3,
   "metadata": {},
   "outputs": [],
   "source": [
    "def triangles_to_segments(points,triangles):\n",
    "    segments = []\n",
    "    for ind1,ind2,ind3 in triangles:\n",
    "        if (points[ind1],points[ind2]) not in segments and (points[ind2],points[ind1]) not in segments:\n",
    "            segments.append((points[ind1],points[ind2]))\n",
    "        if (points[ind1],points[ind3]) not in segments and (points[ind3],points[ind1]) not in segments:\n",
    "            segments.append((points[ind1],points[ind3]))\n",
    "        if (points[ind2],points[ind3]) not in segments and (points[ind3],points[ind2]) not in segments:\n",
    "            segments.append((points[ind2],points[ind3]))\n",
    "    return segments"
   ]
  },
  {
   "cell_type": "markdown",
   "metadata": {},
   "source": [
    "Lista wierzchołków + Lista połączeń"
   ]
  },
  {
   "cell_type": "code",
   "execution_count": 4,
   "metadata": {},
   "outputs": [],
   "source": [
    "def triangles_to_connections(triangles):\n",
    "    connections = []\n",
    "    for i,ii,iii in triangles:\n",
    "        if (i,ii) not in connections and (ii,i) not in connections:\n",
    "            connections.append((i,ii))\n",
    "        if (i,iii) not in connections and (iii,i) not in connections:\n",
    "            connections.append((i,iii))\n",
    "        if (ii,iii) not in connections and (iii,ii) not in connections:\n",
    "            connections.append((ii,iii))\n",
    "    return connections"
   ]
  },
  {
   "cell_type": "code",
   "execution_count": 5,
   "metadata": {},
   "outputs": [
    {
     "name": "stdout",
     "output_type": "stream",
     "text": [
      "([(0.0, 0.0), (1.0, 0.0), (2.0, 0.0), (0.0, 1.0), (1.0, 1.0), (2.0, 1.0), (0.0, 2.0), (1.0, 2.0), (2.0, 2.0)], [(0, 1), (0, 3), (1, 3), (1, 4), (4, 3), (1, 2), (2, 4), (2, 5), (5, 4), (3, 6), (4, 6), (4, 7), (7, 6), (5, 7), (5, 8), (8, 7)])\n"
     ]
    }
   ],
   "source": [
    "p,t = triangulation_reader('1')\n",
    "con = triangles_to_connections(t)\n",
    "vertex_and_connections = (p,con)\n",
    "print(vertex_and_connections)"
   ]
  },
  {
   "cell_type": "markdown",
   "metadata": {},
   "source": [
    "Half Edge "
   ]
  },
  {
   "cell_type": "code",
   "execution_count": 6,
   "metadata": {},
   "outputs": [],
   "source": [
    "from halfedge import *\n",
    "from visualizer import *"
   ]
  },
  {
   "cell_type": "code",
   "execution_count": 7,
   "metadata": {},
   "outputs": [],
   "source": [
    "mesh = triangles_to_segments(p,t)\n",
    "he = create_half_edge_structure(p, t)"
   ]
  },
  {
   "cell_type": "code",
   "execution_count": 8,
   "metadata": {},
   "outputs": [
    {
     "data": {
      "image/png": "[encoded data removed]",
      "text/plain": [
       "<Figure size 800x800 with 1 Axes>"
      ]
     },
     "metadata": {},
     "output_type": "display_data"
    }
   ],
   "source": [
    "draw_halfedge_structure(he,mesh)"
   ]
  },
  {
   "cell_type": "code",
   "execution_count": 40,
   "metadata": {},
   "outputs": [],
   "source": [
    "def apex_surroundings_basic(point, points, connections):\n",
    "    surrounding = []\n",
    "    for i,j in connections:\n",
    "        if i == point:\n",
    "            if j not in surrounding:\n",
    "                surrounding.append(j)\n",
    "            for a,b in connections:\n",
    "                if a == j and b != point and b not in surrounding:\n",
    "                    surrounding.append(b)\n",
    "                elif b == j and a != point and a not in surrounding:\n",
    "                    surrounding.append(a)\n",
    "        elif j == point:\n",
    "            if i not in surrounding:\n",
    "                surrounding.append(i)\n",
    "            for a,b in connections:\n",
    "                if a == i and b != point and b not in surrounding:\n",
    "                    surrounding.append(b)\n",
    "                elif b == i and a != point and a not in surrounding:\n",
    "                    surrounding.append(a)\n",
    "    return surrounding"
   ]
  },
  {
   "cell_type": "code",
   "execution_count": 41,
   "metadata": {},
   "outputs": [
    {
     "name": "stdout",
     "output_type": "stream",
     "text": [
      "[1, 3, 4, 2, 6]\n",
      "[(1.0, 0.0), (0.0, 1.0), (1.0, 1.0), (2.0, 0.0), (0.0, 2.0)]\n"
     ]
    }
   ],
   "source": [
    "sur = apex_surroundings_basic(0, p, con)\n",
    "print(sur)\n",
    "po = [p[sur[i]] for i in range(len(sur))]\n",
    "print(po)"
   ]
  },
  {
   "cell_type": "code",
   "execution_count": 51,
   "metadata": {},
   "outputs": [],
   "source": [
    "import copy\n",
    "\n",
    "def triangle_surroundings_basic(tri_id, triangles):\n",
    "    triangle = triangles[tri_id]\n",
    "    surrounding = []\n",
    "    for i,(t1,t2,t3) in enumerate(triangles):\n",
    "        if i != tri_id and (t1 in triangle or t2 in triangle or t3 in triangle):\n",
    "            if i not in surrounding:\n",
    "                surrounding.append(i)\n",
    "    res = copy.copy(surrounding)\n",
    "    for j in surrounding:\n",
    "        temp_triangle = triangles[j]\n",
    "        for k,(t1,t2,t3) in enumerate(triangles):\n",
    "            if k != tri_id and (t1 in temp_triangle or t2 in temp_triangle or t3 in temp_triangle):\n",
    "                if k not in res:\n",
    "                    res.append(k)\n",
    "    return surrounding, res"
   ]
  },
  {
   "cell_type": "code",
   "execution_count": 54,
   "metadata": {},
   "outputs": [
    {
     "name": "stdout",
     "output_type": "stream",
     "text": [
      "([1, 2, 4], [1, 2, 4, 3, 5, 6])\n"
     ]
    }
   ],
   "source": [
    "tri = triangle_surroundings_basic(0,t)\n",
    "print(tri)"
   ]
  }
 ],
 "metadata": {
  "kernelspec": {
   "display_name": "Python 3 (ipykernel)",
   "language": "python",
   "name": "python3"
  },
  "language_info": {
   "codemirror_mode": {
    "name": "ipython",
    "version": 3
   },
   "file_extension": ".py",
   "mimetype": "text/x-python",
   "name": "python",
   "nbconvert_exporter": "python",
   "pygments_lexer": "ipython3",
   "version": "3.10.12"
  }
 },
 "nbformat": 4,
 "nbformat_minor": 4
}
